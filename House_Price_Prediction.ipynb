{
 "cells": [
  {
   "cell_type": "markdown",
   "metadata": {},
   "source": []
  },
  {
   "cell_type": "code",
   "execution_count": 11,
   "metadata": {},
   "outputs": [
    {
     "name": "stdout",
     "output_type": "stream",
     "text": [
      "   Bedrooms  Bathrooms  SquareFootage   LotSize  YearBuilt  Location   Price\n",
      "0         4          2           3060  4.996832       1979     Urban  743340\n",
      "1         5          1           1819  2.823452       1946     Urban  156481\n",
      "2         3          2           3891  2.418730       2016  Suburban  887715\n",
      "3         5          1           3465  1.632989       1914  Suburban  133691\n",
      "4         5          3           2355  0.690561       1924  Suburban  494341\n"
     ]
    }
   ],
   "source": [
    "# Importing libraries\n",
    "import pandas as pd\n",
    "import numpy as np\n",
    "\n",
    "# Creating a synthetic dataset\n",
    "np.random.seed(42)\n",
    "data = {\n",
    "    \"Bedrooms\": np.random.randint(1, 6, size=500),\n",
    "    \"Bathrooms\": np.random.randint(1, 4, size=500),\n",
    "    \"SquareFootage\": np.random.randint(500, 4000, size=500),\n",
    "    \"LotSize\": np.random.uniform(0.1, 5, size=500),\n",
    "    \"YearBuilt\": np.random.randint(1900, 2023, size=500),\n",
    "    \"Location\": np.random.choice([\"Urban\", \"Suburban\", \"Rural\"], size=500),\n",
    "    \"Price\": np.random.randint(100000, 1000000, size=500),\n",
    "}\n",
    "\n",
    "# Converting to a DataFrame\n",
    "df = pd.DataFrame(data)\n",
    "\n",
    "# Save dataset to CSV for reuse\n",
    "df.to_csv(\"house_prices.csv\", index=False)\n",
    "\n",
    "# Display the first few rows of the dataset\n",
    "print(df.head())\n"
   ]
  },
  {
   "cell_type": "code",
   "execution_count": 12,
   "metadata": {},
   "outputs": [
    {
     "name": "stdout",
     "output_type": "stream",
     "text": [
      "Dataset Info:\n",
      "<class 'pandas.core.frame.DataFrame'>\n",
      "RangeIndex: 500 entries, 0 to 499\n",
      "Data columns (total 7 columns):\n",
      " #   Column         Non-Null Count  Dtype  \n",
      "---  ------         --------------  -----  \n",
      " 0   Bedrooms       500 non-null    int64  \n",
      " 1   Bathrooms      500 non-null    int64  \n",
      " 2   SquareFootage  500 non-null    int64  \n",
      " 3   LotSize        500 non-null    float64\n",
      " 4   YearBuilt      500 non-null    int64  \n",
      " 5   Location       500 non-null    object \n",
      " 6   Price          500 non-null    int64  \n",
      "dtypes: float64(1), int64(5), object(1)\n",
      "memory usage: 27.5+ KB\n",
      "None\n",
      "\n",
      "Dataset Statistics:\n",
      "         Bedrooms   Bathrooms  SquareFootage     LotSize   YearBuilt  \\\n",
      "count  500.000000  500.000000     500.000000  500.000000   500.00000   \n",
      "mean     2.970000    1.968000    2316.302000    2.571746  1956.85800   \n",
      "std      1.425891    0.817504    1041.692016    1.412988    35.78529   \n",
      "min      1.000000    1.000000     510.000000    0.101164  1900.00000   \n",
      "25%      2.000000    1.000000    1430.250000    1.343770  1925.00000   \n",
      "50%      3.000000    2.000000    2357.500000    2.655326  1954.50000   \n",
      "75%      4.000000    3.000000    3262.750000    3.760911  1987.00000   \n",
      "max      5.000000    3.000000    3995.000000    4.996832  2022.00000   \n",
      "\n",
      "               Price  \n",
      "count     500.000000  \n",
      "mean   564773.980000  \n",
      "std    257682.598866  \n",
      "min    107461.000000  \n",
      "25%    339730.250000  \n",
      "50%    570226.500000  \n",
      "75%    798468.750000  \n",
      "max    988544.000000  \n",
      "\n",
      "First Few Rows:\n",
      "   Bedrooms  Bathrooms  SquareFootage   LotSize  YearBuilt  Location   Price\n",
      "0         4          2           3060  4.996832       1979     Urban  743340\n",
      "1         5          1           1819  2.823452       1946     Urban  156481\n",
      "2         3          2           3891  2.418730       2016  Suburban  887715\n",
      "3         5          1           3465  1.632989       1914  Suburban  133691\n",
      "4         5          3           2355  0.690561       1924  Suburban  494341\n"
     ]
    }
   ],
   "source": [
    "# Loading the dataset\n",
    "df = pd.read_csv(\"house_prices.csv\")\n",
    "\n",
    "# Display dataset information\n",
    "print(\"Dataset Info:\")\n",
    "print(df.info())\n",
    "\n",
    "# Display dataset statistics\n",
    "print(\"\\nDataset Statistics:\")\n",
    "print(df.describe())\n",
    "\n",
    "# Display first few rows\n",
    "print(\"\\nFirst Few Rows:\")\n",
    "print(df.head())\n"
   ]
  },
  {
   "cell_type": "code",
   "execution_count": 13,
   "metadata": {},
   "outputs": [
    {
     "name": "stdout",
     "output_type": "stream",
     "text": [
      "\n",
      "Missing Values:\n",
      "Bedrooms         0\n",
      "Bathrooms        0\n",
      "SquareFootage    0\n",
      "LotSize          0\n",
      "YearBuilt        0\n",
      "Location         0\n",
      "Price            0\n",
      "dtype: int64\n",
      "\n",
      "Preprocessed Training Features:\n",
      "          0         1         2         3         4         5         6  \\\n",
      "0 -0.003558  1.264761  1.438723 -0.092215 -1.043878  1.424887 -0.717741   \n",
      "1 -0.003558  0.039811 -1.339262 -0.402553 -1.516536 -0.701810 -0.717741   \n",
      "2  0.708015  1.264761  0.792322  1.352562 -0.209777  1.424887 -0.717741   \n",
      "3 -0.715130 -1.185139 -1.012214 -0.930892  0.513112  1.424887 -0.717741   \n",
      "4 -1.426703  1.264761 -0.831375  0.949528  0.985769 -0.701810 -0.717741   \n",
      "\n",
      "          7  \n",
      "0 -0.701810  \n",
      "1  1.424887  \n",
      "2 -0.701810  \n",
      "3 -0.701810  \n",
      "4  1.424887  \n"
     ]
    }
   ],
   "source": [
    "from sklearn.model_selection import train_test_split\n",
    "from sklearn.preprocessing import OneHotEncoder, StandardScaler\n",
    "\n",
    "# Checking for missing values\n",
    "print(\"\\nMissing Values:\")\n",
    "print(df.isnull().sum())\n",
    "\n",
    "# Encoding categorical features (e.g., Location)\n",
    "encoder = OneHotEncoder(sparse_output=False)  # Updated parameter for scikit-learn v1.2+\n",
    "location_encoded = encoder.fit_transform(df[[\"Location\"]])\n",
    "\n",
    "# Add encoded columns back to the dataframe\n",
    "encoded_df = pd.DataFrame(location_encoded, columns=encoder.get_feature_names_out([\"Location\"]))\n",
    "df = pd.concat([df, encoded_df], axis=1).drop(columns=[\"Location\"])\n",
    "\n",
    "# Splitting features (X) and target (y)\n",
    "X = df.drop(columns=[\"Price\"])\n",
    "y = df[\"Price\"]\n",
    "\n",
    "# Splitting into train and test sets\n",
    "X_train, X_test, y_train, y_test = train_test_split(X, y, test_size=0.2, random_state=42)\n",
    "\n",
    "# Scaling numerical features\n",
    "scaler = StandardScaler()\n",
    "X_train = scaler.fit_transform(X_train)\n",
    "X_test = scaler.transform(X_test)\n",
    "\n",
    "print(\"\\nPreprocessed Training Features:\")\n",
    "print(pd.DataFrame(X_train).head())\n"
   ]
  },
  {
   "cell_type": "code",
   "execution_count": 14,
   "metadata": {},
   "outputs": [
    {
     "name": "stdout",
     "output_type": "stream",
     "text": [
      "\n",
      "Model Performance:\n",
      "RMSE: 259955.73\n",
      "R^2 Score: -0.12\n"
     ]
    }
   ],
   "source": [
    "from sklearn.ensemble import RandomForestRegressor\n",
    "from sklearn.metrics import mean_squared_error, r2_score\n",
    "\n",
    "# Initialize and train the model\n",
    "model = RandomForestRegressor(random_state=42)\n",
    "model.fit(X_train, y_train)\n",
    "\n",
    "# Predictions\n",
    "y_pred = model.predict(X_test)\n",
    "\n",
    "# Evaluation\n",
    "rmse = np.sqrt(mean_squared_error(y_test, y_pred))\n",
    "r2 = r2_score(y_test, y_pred)\n",
    "print(f\"\\nModel Performance:\")\n",
    "print(f\"RMSE: {rmse:.2f}\")\n",
    "print(f\"R^2 Score: {r2:.2f}\")\n"
   ]
  },
  {
   "cell_type": "code",
   "execution_count": 15,
   "metadata": {},
   "outputs": [
    {
     "data": {
      "image/png": "[encoded data removed]",
      "text/plain": [
       "<Figure size 1000x600 with 1 Axes>"
      ]
     },
     "metadata": {},
     "output_type": "display_data"
    }
   ],
   "source": [
    "import matplotlib.pyplot as plt\n",
    "\n",
    "# Scatter plot for predictions vs actual\n",
    "plt.figure(figsize=(10, 6))\n",
    "plt.scatter(y_test, y_pred, alpha=0.5)\n",
    "plt.xlabel(\"Actual Prices\")\n",
    "plt.ylabel(\"Predicted Prices\")\n",
    "plt.title(\"Actual vs Predicted Prices\")\n",
    "plt.show()\n"
   ]
  },
  {
   "cell_type": "code",
   "execution_count": 16,
   "metadata": {},
   "outputs": [
    {
     "name": "stdout",
     "output_type": "stream",
     "text": [
      "\n",
      "Predictions from Reloaded Model:\n",
      "[567440.21 592295.07 378345.52 559880.5  593942.76]\n"
     ]
    }
   ],
   "source": [
    "import joblib\n",
    "\n",
    "# Save the model\n",
    "joblib.dump(model, \"house_price_model.pkl\")\n",
    "\n",
    "# Reload the model\n",
    "loaded_model = joblib.load(\"house_price_model.pkl\")\n",
    "\n",
    "# Test reloaded model\n",
    "test_prediction = loaded_model.predict(X_test[:5])\n",
    "print(\"\\nPredictions from Reloaded Model:\")\n",
    "print(test_prediction)\n"
   ]
  }
 ],
 "metadata": {
  "kernelspec": {
   "display_name": "Python 3",
   "language": "python",
   "name": "python3"
  },
  "language_info": {
   "codemirror_mode": {
    "name": "ipython",
    "version": 3
   },
   "file_extension": ".py",
   "mimetype": "text/x-python",
   "name": "python",
   "nbconvert_exporter": "python",
   "pygments_lexer": "ipython3",
   "version": "3.9.5"
  }
 },
 "nbformat": 4,
 "nbformat_minor": 2
}
